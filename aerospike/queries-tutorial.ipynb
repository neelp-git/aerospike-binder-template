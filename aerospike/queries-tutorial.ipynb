{
 "cells": [
  {
   "cell_type": "markdown",
   "metadata": {},
   "source": [
    "# Aerospike Queries with Python¶\n"
   ]
  },
  {
   "cell_type": "markdown",
   "metadata": {},
   "source": [
    "## Run the following cells to start the database and populate the test data."
   ]
  },
  {
   "cell_type": "markdown",
   "metadata": {},
   "source": [
    "### Start the server and verify the log."
   ]
  },
  {
   "cell_type": "code",
   "execution_count": null,
   "metadata": {},
   "outputs": [],
   "source": [
    "%%bash\n",
    "asd\n",
    "sleep 10\n",
    "pgrep -x asd >/dev/null && echo \"Aerospike server is running!\" || echo \"***Aerospike server is not running***\"\n",
    "echo \"End of server log:\"\n",
    "tail -20 /tmp/aerolog"
   ]
  },
  {
   "cell_type": "markdown",
   "metadata": {},
   "source": [
    "### Connect to the database and populate test data."
   ]
  },
  {
   "cell_type": "code",
   "execution_count": null,
   "metadata": {},
   "outputs": [],
   "source": [
    "# import the module\n",
    "from __future__ import print_function\n",
    "import aerospike\n",
    "\n",
    "# Configure the client\n",
    "config = {\n",
    "  'hosts': [ ('127.0.0.1', 3000) ],\n",
    "  'policy' : {'key': aerospike.POLICY_KEY_SEND}\n",
    "}\n",
    "\n",
    "# Create a client and connect it to the cluster\n",
    "try:\n",
    "  client = aerospike.client(config).connect()\n",
    "except:\n",
    "  import sys\n",
    "  print(\"failed to connect to the cluster with\", config['hosts'])\n",
    "  sys.exit(1)\n",
    "\n",
    "# Records are addressable via a tuple of (namespace, set, key)\n",
    "people = [ {'id':1, 'name':'John Doe', 'age': 53},\n",
    "           {'id':2, 'name':'Brian Yu', 'age': 21},\n",
    "           {'id':3, 'name':'Will Kim', 'age': 34},\n",
    "           {'id':4, 'name':'Dorothy Smith', 'age': 48},\n",
    "           {'id':5, 'name':'Sara Poe', 'age': 29},\n",
    "           {'id':6, 'name':'Kim Knott', 'age': 56},\n",
    "           {'id':7, 'name':'Joe Miller', 'age': 30},\n",
    "           {'id':8, 'name':'Jeff Nye', 'age': 32},\n",
    "           {'id':9, 'name':'Jane Doe', 'age': 44},\n",
    "           {'id':10, 'name':'Emily Tuck', 'age': 22} ]\n",
    "try:\n",
    "    for i in range(10):\n",
    "      # Write the records\n",
    "      client.put(('test', 'demo', 'id'+str(people[i])), people[i])\n",
    "except Exception as e:\n",
    "  import sys\n",
    "  print(\"error: {0}\".format(e), file=sys.stderr)\n",
    "\n",
    "# Must create an index to query on a bin\n",
    "try:\n",
    "    client.index_integer_create(\"test\", \"demo\", \"age\", \"test_demo_number_idx\")\n",
    "except ex.IndexFoundError:\n",
    "    pass\n",
    "\n",
    "print('Database intialized.')"
   ]
  },
  {
   "cell_type": "markdown",
   "metadata": {},
   "source": [
    "# Begin Query Tutorial\n",
    "\n",
    "In addition to querying using the primary index using the key-value store APIs, the Aerospike Python client provides an API to query using secondary indexes."
   ]
  },
  {
   "cell_type": "markdown",
   "metadata": {},
   "source": [
    "## Query Records\n",
    "Use the Aerospike Python client APIs to query the database using secondary indexes.\n",
    "\n",
    "### Creating a Query\n",
    "client.query() takes the namespace (required) and set (optional) arguments. set can be omitted or None. The return value is a new aerospike.Query class instance.\n",
    "\n",
    "This example creates a query on the test namespace, demo set:"
   ]
  },
  {
   "cell_type": "code",
   "execution_count": null,
   "metadata": {},
   "outputs": [],
   "source": [
    "query = client.query('test', 'demo')"
   ]
  },
  {
   "cell_type": "markdown",
   "metadata": {},
   "source": [
    "### Projecting Bins\n",
    "Project bins using select() on the Query class instance. select() accepts one or many bin names (strings).\n",
    "\n",
    "This example selects name and age bins from the specified records:"
   ]
  },
  {
   "cell_type": "code",
   "execution_count": null,
   "metadata": {},
   "outputs": [],
   "source": [
    "query.select('name', 'age')"
   ]
  },
  {
   "cell_type": "markdown",
   "metadata": {},
   "source": [
    "### Adding Query Predicates\n",
    "Define predicates using where() on the Query class instance. where() accepts a predicate created using one of the functions in aerospike.predicates, including:\n",
    "\n",
    "equals(bin, value) — Find records containing bin bin with the specified value (integer or string).\n",
    "between(bin, min, max) — Find records containing bin bin with a value in the min and max range (integer only).\n",
    "Use p to import the predicates module from aerospike.predicates.\n",
    "\n",
    "This example adds a between() predicate to a query:"
   ]
  },
  {
   "cell_type": "code",
   "execution_count": null,
   "metadata": {},
   "outputs": [],
   "source": [
    "from aerospike import predicates as p\n",
    "query.where( p.between('age', 14, 25) )"
   ]
  },
  {
   "cell_type": "markdown",
   "metadata": {},
   "source": [
    "### Reading Results\n",
    "Execute the query and read the results using foreach() in the Query class instance. foreach() accepts a callback function for each result read from the query. The callback function must accept a single argument as a tuple:\n",
    "\n",
    "key tuple — The tuple to identify the record.\n",
    "metadata — The dict containing the record metadata (TTL and generation).\n",
    "record — The dict containing the record bins.\n",
    "If the callback returns False, the client stops reading results.\n",
    "\n",
    "These examples execute the query and reads results.\n",
    "\n",
    "To print the records as they are read:"
   ]
  },
  {
   "cell_type": "code",
   "execution_count": null,
   "metadata": {},
   "outputs": [],
   "source": [
    "def print_result(result_tuple):\n",
    "    print(result_tuple)"
   ]
  },
  {
   "cell_type": "markdown",
   "metadata": {},
   "source": [
    "To execute the query and call print_result for each result:"
   ]
  },
  {
   "cell_type": "code",
   "execution_count": null,
   "metadata": {},
   "outputs": [],
   "source": [
    "query.foreach(print_result)"
   ]
  },
  {
   "cell_type": "markdown",
   "metadata": {},
   "source": [
    "Clean up."
   ]
  },
  {
   "cell_type": "code",
   "execution_count": null,
   "metadata": {},
   "outputs": [],
   "source": [
    "# Close the connection to the Aerospike cluster\n",
    "client.close()"
   ]
  }
 ],
 "metadata": {
  "kernelspec": {
   "display_name": "Python 3",
   "language": "python",
   "name": "python3"
  },
  "language_info": {
   "codemirror_mode": {
    "name": "ipython",
    "version": 3
   },
   "file_extension": ".py",
   "mimetype": "text/x-python",
   "name": "python",
   "nbconvert_exporter": "python",
   "pygments_lexer": "ipython3",
   "version": "3.8.5"
  }
 },
 "nbformat": 4,
 "nbformat_minor": 4
}
